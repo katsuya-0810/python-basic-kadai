{
  "nbformat": 4,
  "nbformat_minor": 0,
  "metadata": {
    "colab": {
      "provenance": []
    },
    "kernelspec": {
      "name": "python3",
      "display_name": "Python 3"
    },
    "language_info": {
      "name": "python"
    }
  },
  "cells": [
    {
      "cell_type": "code",
      "execution_count": 2,
      "metadata": {
        "colab": {
          "base_uri": "https://localhost:8080/"
        },
        "id": "uZ99oW_n_b7V",
        "outputId": "921270d1-1ab5-4459-ceaa-0256f30278e6"
      },
      "outputs": [
        {
          "output_type": "stream",
          "name": "stdout",
          "text": [
            "75.0㎠\n"
          ]
        }
      ],
      "source": [
        "joutei =10\n",
        "katei =20\n",
        "takasa =5\n",
        "daikei =(joutei + katei) * takasa / 2\n",
        "\n",
        "print(str(daikei) + \"㎠\")"
      ]
    }
  ]
}
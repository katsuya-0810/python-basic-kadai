{
  "nbformat": 4,
  "nbformat_minor": 0,
  "metadata": {
    "colab": {
      "provenance": []
    },
    "kernelspec": {
      "name": "python3",
      "display_name": "Python 3"
    },
    "language_info": {
      "name": "python"
    }
  },
  "cells": [
    {
      "cell_type": "code",
      "execution_count": 6,
      "metadata": {
        "colab": {
          "base_uri": "https://localhost:8080/"
        },
        "id": "t9WMyXcACC2c",
        "outputId": "d3e056ea-b64b-4160-a538-1c2876248aa2"
      },
      "outputs": [
        {
          "output_type": "stream",
          "name": "stdout",
          "text": [
            "30\n",
            "BuzzFizz\n"
          ]
        }
      ],
      "source": [
        "import random\n",
        "var = random.randint(3,15)\n",
        "\n",
        "print(var)\n",
        "\n",
        "if  (var % 3 == 0 and var % 5 == 0):\n",
        "    print(\"BuzzFizz\")\n",
        "\n",
        "elif (var % 5 == 0):\n",
        "    print(\"Buzz\")\n",
        "\n",
        "elif(var % 3 == 0):\n",
        "    print(\"Fizz\")\n",
        "\n",
        "else:\n",
        "    print(var)"
      ]
    }
  ]
}
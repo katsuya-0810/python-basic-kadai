{
  "nbformat": 4,
  "nbformat_minor": 0,
  "metadata": {
    "colab": {
      "provenance": []
    },
    "kernelspec": {
      "name": "python3",
      "display_name": "Python 3"
    },
    "language_info": {
      "name": "python"
    }
  },
  "cells": [
    {
      "cell_type": "code",
      "execution_count": 1,
      "metadata": {
        "colab": {
          "base_uri": "https://localhost:8080/"
        },
        "id": "eLCMx0RLPX-O",
        "outputId": "fbcf8496-31cc-4ad8-d7d6-d6412f72ac1c"
      },
      "outputs": [
        {
          "output_type": "stream",
          "name": "stdout",
          "text": [
            "太郎は大人です。\n",
            "花子は大人ではありません。\n",
            "次郎は大人です。\n"
          ]
        }
      ],
      "source": [
        "class Human:\n",
        "    def __init__(self, name, age):\n",
        "        self.name = name\n",
        "        self.age = age\n",
        "    def check_adult(self):\n",
        "        if self.age >= 20: print(f\"{self.name}は大人です。\")\n",
        "        else: print(f\"{self.name}は大人ではありません。\")\n",
        "\n",
        "# インスタンスを作成し、リストに追加\n",
        "humans = [ Human(\"太郎\", 25), Human(\"花子\", 18), Human(\"次郎\", 20) ]\n",
        "\n",
        "# リストの各インスタンスに対してcheck_adultメソッドを呼び出す\n",
        "for human in humans: human.check_adult()"
      ]
    }
  ]
}
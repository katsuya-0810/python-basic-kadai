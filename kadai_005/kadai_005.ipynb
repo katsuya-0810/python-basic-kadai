{
  "nbformat": 4,
  "nbformat_minor": 0,
  "metadata": {
    "colab": {
      "provenance": []
    },
    "kernelspec": {
      "name": "python3",
      "display_name": "Python 3"
    },
    "language_info": {
      "name": "python"
    }
  },
  "cells": [
    {
      "cell_type": "code",
      "execution_count": 11,
      "metadata": {
        "colab": {
          "base_uri": "https://localhost:8080/"
        },
        "id": "uZ99oW_n_b7V",
        "outputId": "1612f3f7-e46f-440b-b7ec-73ea4e9dfd70"
      },
      "outputs": [
        {
          "output_type": "stream",
          "name": "stdout",
          "text": [
            "75.0㎠\n"
          ]
        }
      ],
      "source": [
        "\"上底:10㎝\"\n",
        "\"下底:20㎝\"\n",
        "\"高さ:5㎝\"\n",
        "print(str((10 + 20) * 5 / 2) + \"㎠\")"
      ]
    }
  ]
}
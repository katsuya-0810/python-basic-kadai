{
  "nbformat": 4,
  "nbformat_minor": 0,
  "metadata": {
    "colab": {
      "provenance": []
    },
    "kernelspec": {
      "name": "python3",
      "display_name": "Python 3"
    },
    "language_info": {
      "name": "python"
    }
  },
  "cells": [
    {
      "cell_type": "code",
      "execution_count": 13,
      "metadata": {
        "colab": {
          "base_uri": "https://localhost:8080/"
        },
        "id": "uZ99oW_n_b7V",
        "outputId": "ba396608-a2d0-414b-9639-6a5f20bfea11"
      },
      "outputs": [
        {
          "output_type": "stream",
          "name": "stdout",
          "text": [
            "75.0㎠\n"
          ]
        }
      ],
      "source": [
        "上辺 =10\n",
        "下辺 =20\n",
        "高さ =5\n",
        "print(str((上辺 + 下辺) * 高さ / 2) + \"㎠\")"
      ]
    }
  ]
}
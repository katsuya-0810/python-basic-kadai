{
  "nbformat": 4,
  "nbformat_minor": 0,
  "metadata": {
    "colab": {
      "provenance": []
    },
    "kernelspec": {
      "name": "python3",
      "display_name": "Python 3"
    },
    "language_info": {
      "name": "python"
    }
  },
  "cells": [
    {
      "cell_type": "code",
      "execution_count": 7,
      "metadata": {
        "colab": {
          "base_uri": "https://localhost:8080/"
        },
        "id": "kzYjcf66ngGE",
        "outputId": "dfa4a046-65a7-4c33-8fb6-b056d9752bc1"
      },
      "outputs": [
        {
          "output_type": "stream",
          "name": "stdout",
          "text": [
            "1320.0円\n"
          ]
        }
      ],
      "source": [
        "def add_twe_arguments(price, tax_fee):\n",
        "    total = price * tax_fee\n",
        "\n",
        "    return(total)\n",
        "\n",
        "print(f\"{add_twe_arguments(1200,1.1)}円\")"
      ]
    }
  ]
}
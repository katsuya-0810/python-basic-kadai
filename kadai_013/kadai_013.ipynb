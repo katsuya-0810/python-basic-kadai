{
  "nbformat": 4,
  "nbformat_minor": 0,
  "metadata": {
    "colab": {
      "provenance": []
    },
    "kernelspec": {
      "name": "python3",
      "display_name": "Python 3"
    },
    "language_info": {
      "name": "python"
    }
  },
  "cells": [
    {
      "cell_type": "code",
      "execution_count": 1,
      "metadata": {
        "colab": {
          "base_uri": "https://localhost:8080/"
        },
        "id": "kzYjcf66ngGE",
        "outputId": "22081854-c41d-4a30-8fcd-0df4250be447"
      },
      "outputs": [
        {
          "output_type": "stream",
          "name": "stdout",
          "text": [
            "1320.0円\n"
          ]
        }
      ],
      "source": [
        "def add_twe_arguments(price, tax_fee):\n",
        "    total = price * tax_fee\n",
        "\n",
        "    print(f\"{total}円\")\n",
        "\n",
        "add_twe_arguments(1200,1.1)"
      ]
    }
  ]
}